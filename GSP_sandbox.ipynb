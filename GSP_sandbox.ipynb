{
 "cells": [
  {
   "cell_type": "markdown",
   "metadata": {},
   "source": [
    "# GSP tutorial"
   ]
  },
  {
   "cell_type": "code",
   "execution_count": 1,
   "metadata": {
    "scrolled": true
   },
   "outputs": [
    {
     "name": "stdout",
     "output_type": "stream",
     "text": [
      "Requirement already satisfied: pygsp in /home/noam/anaconda3/lib/python3.6/site-packages\n",
      "Requirement already satisfied: pyflann3; python_version == \"3.*\" in /home/noam/anaconda3/lib/python3.6/site-packages (from pygsp)\n",
      "Requirement already satisfied: pyqtgraph in /home/noam/anaconda3/lib/python3.6/site-packages (from pygsp)\n",
      "Requirement already satisfied: pyopengl in /home/noam/anaconda3/lib/python3.6/site-packages (from pygsp)\n",
      "Requirement already satisfied: matplotlib in /home/noam/anaconda3/lib/python3.6/site-packages (from pygsp)\n",
      "Requirement already satisfied: PyQt5; python_version >= \"3.5\" in /home/noam/anaconda3/lib/python3.6/site-packages (from pygsp)\n",
      "Requirement already satisfied: numpy in /home/noam/anaconda3/lib/python3.6/site-packages (from pygsp)\n",
      "Requirement already satisfied: scikit-image in /home/noam/anaconda3/lib/python3.6/site-packages (from pygsp)\n",
      "Requirement already satisfied: scipy in /home/noam/anaconda3/lib/python3.6/site-packages (from pygsp)\n",
      "Requirement already satisfied: six>=1.10 in /home/noam/anaconda3/lib/python3.6/site-packages (from matplotlib->pygsp)\n",
      "Requirement already satisfied: python-dateutil in /home/noam/anaconda3/lib/python3.6/site-packages (from matplotlib->pygsp)\n",
      "Requirement already satisfied: pytz in /home/noam/anaconda3/lib/python3.6/site-packages (from matplotlib->pygsp)\n",
      "Requirement already satisfied: cycler>=0.10 in /home/noam/anaconda3/lib/python3.6/site-packages (from matplotlib->pygsp)\n",
      "Requirement already satisfied: pyparsing!=2.0.4,!=2.1.2,!=2.1.6,>=1.5.6 in /home/noam/anaconda3/lib/python3.6/site-packages (from matplotlib->pygsp)\n",
      "Requirement already satisfied: sip<4.20,>=4.19.3 in /home/noam/anaconda3/lib/python3.6/site-packages (from PyQt5; python_version >= \"3.5\"->pygsp)\n",
      "Requirement already satisfied: networkx>=1.8 in /home/noam/anaconda3/lib/python3.6/site-packages (from scikit-image->pygsp)\n",
      "Requirement already satisfied: pillow>=2.1.0 in /home/noam/anaconda3/lib/python3.6/site-packages (from scikit-image->pygsp)\n",
      "Requirement already satisfied: PyWavelets>=0.4.0 in /home/noam/anaconda3/lib/python3.6/site-packages (from scikit-image->pygsp)\n",
      "Requirement already satisfied: decorator>=3.4.0 in /home/noam/anaconda3/lib/python3.6/site-packages (from networkx>=1.8->scikit-image->pygsp)\n",
      "Requirement already satisfied: olefile in /home/noam/anaconda3/lib/python3.6/site-packages (from pillow>=2.1.0->scikit-image->pygsp)\n",
      "\u001b[33mYou are using pip version 9.0.1, however version 10.0.1 is available.\n",
      "You should consider upgrading via the 'pip install --upgrade pip' command.\u001b[0m\n"
     ]
    }
   ],
   "source": [
    "! pip install pygsp"
   ]
  },
  {
   "cell_type": "code",
   "execution_count": 4,
   "metadata": {},
   "outputs": [],
   "source": [
    "%matplotlib  inline\n",
    "\n",
    "import numpy as np\n",
    "import matplotlib.pyplot as plt\n",
    "from pygsp import graphs, filters\n",
    "\n",
    "plt.rcParams['figure.figsize'] = (17, 5)"
   ]
  }
 ],
 "metadata": {
  "kernelspec": {
   "display_name": "Python 3",
   "language": "python",
   "name": "python3"
  },
  "language_info": {
   "codemirror_mode": {
    "name": "ipython",
    "version": 3
   },
   "file_extension": ".py",
   "mimetype": "text/x-python",
   "name": "python",
   "nbconvert_exporter": "python",
   "pygments_lexer": "ipython3",
   "version": "3.6.2"
  }
 },
 "nbformat": 4,
 "nbformat_minor": 2
}
