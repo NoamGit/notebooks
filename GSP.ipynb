{
 "cells": [
  {
   "cell_type": "code",
   "execution_count": 1,
   "metadata": {
    "collapsed": true
   },
   "outputs": [],
   "source": [
    "import networkx as nx\n",
    "import graphviz\n",
    "import matplotlib.pylab as plt\n",
    "import numpy as np"
   ]
  },
  {
   "cell_type": "markdown",
   "metadata": {},
   "source": [
    "##  Define Graph\n"
   ]
  },
  {
   "cell_type": "code",
   "execution_count": 17,
   "metadata": {},
   "outputs": [
    {
     "data": {
      "text/plain": [
       "[(0, 1), (0, 8), (1, 2), (2, 3), (3, 4), (4, 5), (5, 6), (6, 7), (7, 8)]"
      ]
     },
     "execution_count": 17,
     "metadata": {},
     "output_type": "execute_result"
    }
   ],
   "source": [
    "N = 8\n",
    "G = nx.Graph([(n,n+1) for n in range(N)] + [(N,0)])\n",
    "G.edges()"
   ]
  },
  {
   "cell_type": "code",
   "execution_count": 20,
   "metadata": {},
   "outputs": [
    {
     "name": "stderr",
     "output_type": "stream",
     "text": [
      "C:\\Users\\noam\\Anaconda3\\lib\\site-packages\\networkx\\drawing\\nx_pylab.py:126: MatplotlibDeprecationWarning: pyplot.hold is deprecated.\n",
      "    Future behavior will be consistent with the long-time default:\n",
      "    plot commands add elements without first clearing the\n",
      "    Axes and/or Figure.\n",
      "  b = plt.ishold()\n",
      "C:\\Users\\noam\\Anaconda3\\lib\\site-packages\\networkx\\drawing\\nx_pylab.py:138: MatplotlibDeprecationWarning: pyplot.hold is deprecated.\n",
      "    Future behavior will be consistent with the long-time default:\n",
      "    plot commands add elements without first clearing the\n",
      "    Axes and/or Figure.\n",
      "  plt.hold(b)\n",
      "C:\\Users\\noam\\Anaconda3\\lib\\site-packages\\matplotlib\\__init__.py:917: UserWarning: axes.hold is deprecated. Please remove it from your matplotlibrc and/or style files.\n",
      "  warnings.warn(self.msg_depr_set % key)\n",
      "C:\\Users\\noam\\Anaconda3\\lib\\site-packages\\matplotlib\\rcsetup.py:152: UserWarning: axes.hold is deprecated, will be removed in 3.0\n",
      "  warnings.warn(\"axes.hold is deprecated, will be removed in 3.0\")\n"
     ]
    },
    {
     "data": {
      "text/plain": [
       "<matplotlib.figure.Figure at 0x1f37a5db048>"
      ]
     },
     "metadata": {},
     "output_type": "display_data"
    },
    {
     "data": {
      "image/png": "[encoded data removed]",
      "text/plain": [
       "<matplotlib.figure.Figure at 0x1f37a5c2ef0>"
      ]
     },
     "metadata": {},
     "output_type": "display_data"
    }
   ],
   "source": [
    "plt.figure()\n",
    "nx.draw_spectral(G)\n",
    "plt.show()"
   ]
  },
  {
   "cell_type": "code",
   "execution_count": 24,
   "metadata": {},
   "outputs": [
    {
     "data": {
      "text/plain": [
       "array([[ 2, -1,  0,  0,  0,  0,  0,  0, -1],\n",
       "       [-1,  2, -1,  0,  0,  0,  0,  0,  0],\n",
       "       [ 0, -1,  2, -1,  0,  0,  0,  0,  0],\n",
       "       [ 0,  0, -1,  2, -1,  0,  0,  0,  0],\n",
       "       [ 0,  0,  0, -1,  2, -1,  0,  0,  0],\n",
       "       [ 0,  0,  0,  0, -1,  2, -1,  0,  0],\n",
       "       [ 0,  0,  0,  0,  0, -1,  2, -1,  0],\n",
       "       [ 0,  0,  0,  0,  0,  0, -1,  2, -1],\n",
       "       [-1,  0,  0,  0,  0,  0,  0, -1,  2]], dtype=int32)"
      ]
     },
     "execution_count": 24,
     "metadata": {},
     "output_type": "execute_result"
    }
   ],
   "source": [
    "L = nx.laplacian_matrix(G)\n",
    "L.toarray()"
   ]
  },
  {
   "cell_type": "code",
   "execution_count": 31,
   "metadata": {},
   "outputs": [
    {
     "data": {
      "text/plain": [
       "(array([ -1.22124533e-15,   4.67911114e-01,   4.67911114e-01,\n",
       "          1.65270364e+00,   1.65270364e+00,   3.00000000e+00,\n",
       "          3.00000000e+00,   3.87938524e+00,   3.87938524e+00]),\n",
       " array([[ -3.33333333e-01,   4.70686258e-01,  -2.60128632e-02,\n",
       "           1.00195793e-05,   4.71404521e-01,  -1.75997057e-03,\n",
       "          -4.71401235e-01,  -4.67127247e-01,  -6.33589548e-02],\n",
       "        [ -3.33333333e-01,   3.77287338e-01,   2.82624285e-01,\n",
       "          -4.64241087e-01,   8.18684033e-02,  -4.07365460e-01,\n",
       "           2.37224797e-01,   4.60626066e-01,  -1.00228986e-01],\n",
       "        [ -3.33333333e-01,   1.07351480e-01,   4.59018390e-01,\n",
       "          -1.61239257e-01,  -4.42971923e-01,   4.09125431e-01,\n",
       "           2.34176438e-01,  -3.98566583e-01,   2.51727831e-01],\n",
       "        [ -3.33333333e-01,  -2.12815328e-01,   4.20632688e-01,\n",
       "           4.08243281e-01,  -2.35710938e-01,  -1.75997057e-03,\n",
       "          -4.71401235e-01,   2.88434088e-01,  -3.72864585e-01],\n",
       "        [ -3.33333333e-01,  -4.33403480e-01,   1.85428277e-01,\n",
       "           3.03020660e-01,   3.61110373e-01,  -4.07365460e-01,\n",
       "           2.37224797e-01,  -1.43512185e-01,   4.49028368e-01],\n",
       "        [ -3.33333333e-01,  -4.51197326e-01,  -1.36540086e-01,\n",
       "          -3.03005310e-01,   3.61123254e-01,   4.09125431e-01,\n",
       "           2.34176438e-01,  -1.87194053e-02,  -4.71032702e-01],\n",
       "        [ -3.33333333e-01,  -2.57870929e-01,  -3.94619825e-01,\n",
       "          -4.08253300e-01,  -2.35693583e-01,  -1.75997057e-03,\n",
       "          -4.71401235e-01,   1.78693159e-01,   4.36223540e-01],\n",
       "        [ -3.33333333e-01,   5.61161415e-02,  -4.68052562e-01,\n",
       "           1.61220426e-01,  -4.42978776e-01,  -4.07365460e-01,\n",
       "           2.37224797e-01,  -3.17113881e-01,  -3.48799382e-01],\n",
       "        [ -3.33333333e-01,   3.43845846e-01,  -3.22478304e-01,\n",
       "           4.64244567e-01,   8.18486686e-02,   4.09125431e-01,\n",
       "           2.34176438e-01,   4.17285988e-01,   2.19304870e-01]]))"
      ]
     },
     "execution_count": 31,
     "metadata": {},
     "output_type": "execute_result"
    }
   ],
   "source": [
    "np.linalg.eigh(L.toarray())\n",
    "# import scipy as sp\n",
    "# sp.linalg.eigh\n",
    "# 1/np.sqrt(8)"
   ]
  },
  {
   "cell_type": "code",
   "execution_count": 1,
   "metadata": {},
   "outputs": [
    {
     "name": "stdout",
     "output_type": "stream",
     "text": [
      "Collecting gsp\n"
     ]
    },
    {
     "name": "stderr",
     "output_type": "stream",
     "text": [
      "  Could not find a version that satisfies the requirement gsp (from versions: )\n",
      "No matching distribution found for gsp\n"
     ]
    }
   ],
   "source": [
    "! pip install gsp"
   ]
  }
 ],
 "metadata": {
  "kernelspec": {
   "display_name": "Python 3",
   "language": "python",
   "name": "python3"
  },
  "language_info": {
   "codemirror_mode": {
    "name": "ipython",
    "version": 3
   },
   "file_extension": ".py",
   "mimetype": "text/x-python",
   "name": "python",
   "nbconvert_exporter": "python",
   "pygments_lexer": "ipython3",
   "version": "3.6.1"
  }
 },
 "nbformat": 4,
 "nbformat_minor": 2
}
